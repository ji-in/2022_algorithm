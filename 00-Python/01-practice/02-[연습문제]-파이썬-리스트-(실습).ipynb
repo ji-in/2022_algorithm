{
  "cells": [
    {
      "cell_type": "code",
      "execution_count": null,
      "metadata": {
        "id": "LDf9TzCoLoGX"
      },
      "outputs": [],
      "source": [
        "!pip install -U pycodegrade -q\n",
        "from pycodegrade import grader as gd\n",
        "\n",
        "uid = 'PY02'\n",
        "group_id = None\n",
        "gd.init('Python', uid, group_id)"
      ]
    },
    {
      "cell_type": "markdown",
      "metadata": {
        "id": "fMAdPD_zkFZm"
      },
      "source": [
        "## Part1. 리스트(list) - 추가, 삭제, 정렬"
      ]
    },
    {
      "cell_type": "code",
      "execution_count": null,
      "metadata": {
        "id": "Kh3ZEKT0kIqA"
      },
      "outputs": [],
      "source": [
        "movie = ['어벤져스', '아이언맨', '토르', '스파이더맨']"
      ]
    },
    {
      "cell_type": "markdown",
      "metadata": {
        "id": "0Y7yivXqLoGb"
      },
      "source": [
        "### 1"
      ]
    },
    {
      "cell_type": "markdown",
      "metadata": {
        "id": "tyOTHPsMkzCo"
      },
      "source": [
        "> `movie`에 맨 끝에 `엑스맨` 을 추가하세요."
      ]
    },
    {
      "cell_type": "code",
      "execution_count": null,
      "metadata": {
        "id": "uUUxbu1zLoGc",
        "outputId": "ad2188f2-7717-41ec-aeb3-414ba0e6cbea"
      },
      "outputs": [
        {
          "name": "stdout",
          "output_type": "stream",
          "text": []
        }
      ],
      "source": [
        "# 코드를 입력해 주세요\n"
      ]
    },
    {
      "cell_type": "markdown",
      "metadata": {
        "id": "gZNuM3tXLoGc"
      },
      "source": [
        "<p><strong>[출력 결과]</strong></p><pre>['어벤져스', '아이언맨', '토르', '스파이더맨', '엑스맨']\n",
        "</pre>"
      ]
    },
    {
      "cell_type": "code",
      "execution_count": null,
      "metadata": {
        "id": "FBIhwqlwLoGd",
        "outputId": "58f46254-d0fb-4af7-ed46-e1c9c7684be4"
      },
      "outputs": [
        {
          "name": "stdout",
          "output_type": "stream",
          "text": []
        }
      ],
      "source": [
        "# 코드검증\n",
        "# 검증코드는 수정하지 않고 실행하여 결과를 확인합니다 (Pass/Fail)\n",
        "gd.check_answer(movie, 1)"
      ]
    },
    {
      "cell_type": "markdown",
      "metadata": {
        "id": "tmlLVshULoGd"
      },
      "source": [
        "### 2"
      ]
    },
    {
      "cell_type": "markdown",
      "metadata": {
        "id": "iel_W4C6ofKa"
      },
      "source": [
        "> `movie`의 1번 index에 `데드풀`을 추가하세요"
      ]
    },
    {
      "cell_type": "code",
      "execution_count": null,
      "metadata": {
        "id": "yGyNESOdorFN"
      },
      "outputs": [],
      "source": [
        "# 코드를 입력해 주세요\n"
      ]
    },
    {
      "cell_type": "markdown",
      "metadata": {
        "id": "kZSinHGbLoGe"
      },
      "source": [
        "<p><strong>[출력 결과]</strong></p><pre>['어벤져스', '데드풀', '아이언맨', '토르', '스파이더맨', '엑스맨']</pre>"
      ]
    },
    {
      "cell_type": "code",
      "execution_count": null,
      "metadata": {
        "id": "UNljbOgPLoGe",
        "outputId": "ff3aa3d8-618c-4084-8fe4-6cb38d344dc0"
      },
      "outputs": [
        {
          "name": "stdout",
          "output_type": "stream",
          "text": []
        }
      ],
      "source": [
        "# 코드검증\n",
        "# 검증코드는 수정하지 않고 실행하여 결과를 확인합니다 (Pass/Fail)\n",
        "gd.check_answer(movie, 2)"
      ]
    },
    {
      "cell_type": "markdown",
      "metadata": {
        "id": "nhIdUC2ZLoGe"
      },
      "source": [
        "### 3"
      ]
    },
    {
      "cell_type": "markdown",
      "metadata": {
        "id": "SyMuSUDFlICP"
      },
      "source": [
        "> `movie`에서 `아이언맨`을 삭제 하세요.\n",
        "> - remove() 사용"
      ]
    },
    {
      "cell_type": "code",
      "execution_count": null,
      "metadata": {
        "id": "y95NJRYSlQJb"
      },
      "outputs": [],
      "source": [
        "# 코드를 입력해 주세요\n"
      ]
    },
    {
      "cell_type": "markdown",
      "metadata": {
        "id": "0HANs2arLoGe"
      },
      "source": [
        "<p><strong>[출력 결과]</strong></p><pre>['어벤져스', '데드풀', '토르', '스파이더맨', '엑스맨']</pre>"
      ]
    },
    {
      "cell_type": "code",
      "execution_count": null,
      "metadata": {
        "id": "aqVkhjZlLoGe",
        "outputId": "6e009c11-f0da-4a5d-ad55-9c00026e0884"
      },
      "outputs": [
        {
          "name": "stdout",
          "output_type": "stream",
          "text": []
        }
      ],
      "source": [
        "# 코드검증\n",
        "# 검증코드는 수정하지 않고 실행하여 결과를 확인합니다 (Pass/Fail)\n",
        "gd.check_answer(movie, 3)"
      ]
    },
    {
      "cell_type": "markdown",
      "metadata": {
        "id": "EoKF6og7LoGf"
      },
      "source": [
        "### 4"
      ]
    },
    {
      "cell_type": "markdown",
      "metadata": {
        "id": "wAPNK_j9LoGf"
      },
      "source": [
        "> `movie`에서 1번째 index를 삭제하세요"
      ]
    },
    {
      "cell_type": "code",
      "execution_count": null,
      "metadata": {
        "id": "dnjIiqzGLoGf"
      },
      "outputs": [],
      "source": [
        "# 코드를 입력해 주세요\n"
      ]
    },
    {
      "cell_type": "markdown",
      "metadata": {
        "id": "UJ_-QdQ6LoGf"
      },
      "source": [
        "<p><strong>[출력 결과]</strong></p><pre>['어벤져스', '토르', '스파이더맨', '엑스맨']</pre>"
      ]
    },
    {
      "cell_type": "code",
      "execution_count": null,
      "metadata": {
        "id": "2w4It8eMLoGf",
        "outputId": "dffce9ce-612c-41fd-a8d4-814d336114ce"
      },
      "outputs": [
        {
          "name": "stdout",
          "output_type": "stream",
          "text": []
        }
      ],
      "source": [
        "# 코드검증\n",
        "# 검증코드는 수정하지 않고 실행하여 결과를 확인합니다 (Pass/Fail)\n",
        "gd.check_answer(movie, 4)"
      ]
    },
    {
      "cell_type": "markdown",
      "metadata": {
        "id": "x12CXyudLoGf"
      },
      "source": [
        "### 5"
      ]
    },
    {
      "cell_type": "code",
      "execution_count": null,
      "metadata": {
        "id": "GaIgjG9ULoGf"
      },
      "outputs": [],
      "source": [
        "kr_movie = ['승리호', '신세계', '타짜']"
      ]
    },
    {
      "cell_type": "markdown",
      "metadata": {
        "id": "ZCqw2VddLoGf"
      },
      "source": [
        "> `kr_movie`를 `movie`에 추가해 주세요"
      ]
    },
    {
      "cell_type": "code",
      "execution_count": null,
      "metadata": {
        "id": "n0c4-TBOLoGf"
      },
      "outputs": [],
      "source": [
        "# 코드를 입력해 주세요\n"
      ]
    },
    {
      "cell_type": "markdown",
      "metadata": {
        "id": "W48Lcm4GLoGf"
      },
      "source": [
        "<p><strong>[출력 결과]</strong></p><pre>['어벤져스', '토르', '스파이더맨', '엑스맨', '승리호', '신세계', '타짜']</pre>"
      ]
    },
    {
      "cell_type": "code",
      "execution_count": null,
      "metadata": {
        "id": "zOv_EbXfLoGf",
        "outputId": "b0e5263d-13d2-46b7-adbe-51d71dd1bd4f"
      },
      "outputs": [
        {
          "name": "stdout",
          "output_type": "stream",
          "text": []
        }
      ],
      "source": [
        "# 코드검증\n",
        "# 검증코드는 수정하지 않고 실행하여 결과를 확인합니다 (Pass/Fail)\n",
        "gd.check_answer(movie, 5)"
      ]
    },
    {
      "cell_type": "markdown",
      "metadata": {
        "id": "Mb54sDrwLoGg"
      },
      "source": [
        "### 6"
      ]
    },
    {
      "cell_type": "markdown",
      "metadata": {
        "id": "IYueSw4LLoGg"
      },
      "source": [
        "> `movie`를 가나다 순으로 정렬하세요"
      ]
    },
    {
      "cell_type": "code",
      "execution_count": null,
      "metadata": {
        "id": "l4_sXzInLoGg"
      },
      "outputs": [],
      "source": [
        "# 코드를 입력해 주세요\n"
      ]
    },
    {
      "cell_type": "markdown",
      "metadata": {
        "id": "ClrJB2cDLoGg"
      },
      "source": [
        "<p><strong>[출력 결과]</strong></p><pre>['스파이더맨', '승리호', '신세계', '어벤져스', '엑스맨', '타짜', '토르']</pre>"
      ]
    },
    {
      "cell_type": "code",
      "execution_count": null,
      "metadata": {
        "id": "ntZQXPHcLoGg",
        "outputId": "f4259265-1e61-4de8-aa3e-d304622c7887"
      },
      "outputs": [
        {
          "name": "stdout",
          "output_type": "stream",
          "text": []
        }
      ],
      "source": [
        "# 코드검증\n",
        "# 검증코드는 수정하지 않고 실행하여 결과를 확인합니다 (Pass/Fail)\n",
        "gd.check_answer(movie, 6)"
      ]
    },
    {
      "cell_type": "markdown",
      "metadata": {
        "id": "QsryYm8bLoGg"
      },
      "source": [
        "## Part2. 리스트 - 슬라이싱(slicing)"
      ]
    },
    {
      "cell_type": "markdown",
      "metadata": {
        "id": "Fs-19DcrLoGg"
      },
      "source": [
        "### 7"
      ]
    },
    {
      "cell_type": "code",
      "execution_count": null,
      "metadata": {
        "id": "vZtzFJtOlQGA"
      },
      "outputs": [],
      "source": [
        "fruit = ['사과', '바나나', '파인애플', '배', '수박', '키위', '오렌지', '망고', '딸기']"
      ]
    },
    {
      "cell_type": "markdown",
      "metadata": {
        "id": "ZO9-b0FXlQB_"
      },
      "source": [
        "> list **인덱싱** & **슬라이싱**을 사용하여 다음과 같이 출력 하세요"
      ]
    },
    {
      "cell_type": "code",
      "execution_count": null,
      "metadata": {
        "colab": {
          "base_uri": "https://localhost:8080/",
          "height": 35
        },
        "id": "ag-1JlpllPyM",
        "outputId": "116c3405-bd29-47ab-80ac-f7332652d419"
      },
      "outputs": [
        {
          "name": "stdout",
          "output_type": "stream",
          "text": []
        }
      ],
      "source": [
        "# 코드를 입력해 주세요\n"
      ]
    },
    {
      "cell_type": "markdown",
      "metadata": {
        "id": "Ziu68NV1LoGg"
      },
      "source": [
        "<p><strong>[출력 결과]</strong></p><pre>['파인애플', '배', '수박']\n",
        "</pre>"
      ]
    },
    {
      "cell_type": "code",
      "execution_count": null,
      "metadata": {
        "id": "wTqeqtvDLoGg",
        "outputId": "8b0ff6f1-39fa-40fe-a869-42bff0884b39"
      },
      "outputs": [
        {
          "name": "stdout",
          "output_type": "stream",
          "text": []
        }
      ],
      "source": [
        "# 코드검증\n",
        "# 검증코드는 수정하지 않고 실행하여 결과를 확인합니다 (Pass/Fail)\n",
        "gd.check_answer(answer, 7)"
      ]
    },
    {
      "cell_type": "markdown",
      "metadata": {
        "id": "-m5WLfVRLoGg"
      },
      "source": [
        "### 8"
      ]
    },
    {
      "cell_type": "markdown",
      "metadata": {
        "id": "MtnVJhm_LoGh"
      },
      "source": [
        "> list **인덱싱** & **슬라이싱**을 사용하여 다음과 같이 출력 하세요"
      ]
    },
    {
      "cell_type": "code",
      "execution_count": null,
      "metadata": {
        "id": "0LRqKruin8YG"
      },
      "outputs": [],
      "source": [
        "# 코드를 입력해 주세요\n"
      ]
    },
    {
      "cell_type": "markdown",
      "metadata": {
        "id": "np1mFc_xLoGh"
      },
      "source": [
        "<p><strong>[출력 결과]</strong></p><pre>['망고', '딸기']</pre>"
      ]
    },
    {
      "cell_type": "code",
      "execution_count": null,
      "metadata": {
        "id": "hv3b-VANLoGh",
        "outputId": "84368e7e-82fc-41b1-9334-6381682da3f3"
      },
      "outputs": [
        {
          "name": "stdout",
          "output_type": "stream",
          "text": []
        }
      ],
      "source": [
        "# 코드검증\n",
        "# 검증코드는 수정하지 않고 실행하여 결과를 확인합니다 (Pass/Fail)\n",
        "gd.check_answer(answer, 8)"
      ]
    },
    {
      "cell_type": "markdown",
      "metadata": {
        "id": "jrWlgdlKLoGh"
      },
      "source": [
        "### 9"
      ]
    },
    {
      "cell_type": "markdown",
      "metadata": {
        "id": "0v4lF8WrLoGh"
      },
      "source": [
        "> list **인덱싱** & **슬라이싱**을 사용하여 다음과 같이 출력 하세요"
      ]
    },
    {
      "cell_type": "code",
      "execution_count": null,
      "metadata": {
        "id": "M2FntdLxoCN4"
      },
      "outputs": [],
      "source": [
        "# 코드를 입력해 주세요\n"
      ]
    },
    {
      "cell_type": "markdown",
      "metadata": {
        "id": "p9FOhqtILoGh"
      },
      "source": [
        "<p><strong>[출력 결과]</strong></p><pre>['사과', '바나나', '파인애플']</pre>"
      ]
    },
    {
      "cell_type": "code",
      "execution_count": null,
      "metadata": {
        "id": "C29SmPbQLoGh",
        "outputId": "55dda392-9a92-4d32-c443-13b64b4c24af"
      },
      "outputs": [
        {
          "name": "stdout",
          "output_type": "stream",
          "text": []
        }
      ],
      "source": [
        "# 코드검증\n",
        "# 검증코드는 수정하지 않고 실행하여 결과를 확인합니다 (Pass/Fail)\n",
        "gd.check_answer(answer, 9)"
      ]
    },
    {
      "cell_type": "markdown",
      "metadata": {
        "id": "MJe_Vi5HLoGh"
      },
      "source": [
        "### 10"
      ]
    },
    {
      "cell_type": "markdown",
      "metadata": {
        "id": "HFUL1XC7LoGh"
      },
      "source": [
        "> list **인덱싱** & **슬라이싱**을 사용하여 다음과 같이 출력 하세요"
      ]
    },
    {
      "cell_type": "code",
      "execution_count": null,
      "metadata": {
        "id": "8tdoEreLoC7Y"
      },
      "outputs": [],
      "source": [
        "# 코드를 입력해 주세요\n"
      ]
    },
    {
      "cell_type": "markdown",
      "metadata": {
        "id": "VgbzUWqbLoGi"
      },
      "source": [
        "<p><strong>[출력 결과]</strong></p><pre>['배', '수박', '키위', '오렌지', '망고', '딸기']</pre>"
      ]
    },
    {
      "cell_type": "code",
      "execution_count": null,
      "metadata": {
        "id": "swEuf50wLoGi",
        "outputId": "587f7937-a2ad-4169-b575-7adca62b8144"
      },
      "outputs": [
        {
          "name": "stdout",
          "output_type": "stream",
          "text": []
        }
      ],
      "source": [
        "# 코드검증\n",
        "# 검증코드는 수정하지 않고 실행하여 결과를 확인합니다 (Pass/Fail)\n",
        "gd.check_answer(answer, 10)"
      ]
    },
    {
      "cell_type": "markdown",
      "metadata": {
        "id": "TVzpsHVVLoGi"
      },
      "source": [
        "## Part3. 슬라이싱 - Step"
      ]
    },
    {
      "cell_type": "markdown",
      "metadata": {
        "id": "wO715YglLoGi"
      },
      "source": [
        "### 11"
      ]
    },
    {
      "cell_type": "code",
      "execution_count": null,
      "metadata": {
        "id": "2wygSWTGLoGi"
      },
      "outputs": [],
      "source": [
        "nums = [1, 2, 3, 4, 5, 6, 7, 8, 9, 10]"
      ]
    },
    {
      "cell_type": "markdown",
      "metadata": {
        "id": "dfkntjaOLoGi"
      },
      "source": [
        "> 슬라이싱을 활용하여 **짝수**만 출력해 주세요"
      ]
    },
    {
      "cell_type": "code",
      "execution_count": null,
      "metadata": {
        "id": "YaPWYlHvLoGi",
        "outputId": "95d14e53-45a3-40f3-b020-885dd165be08"
      },
      "outputs": [
        {
          "name": "stdout",
          "output_type": "stream",
          "text": []
        }
      ],
      "source": [
        "# 코드를 입력해 주세요\n"
      ]
    },
    {
      "cell_type": "markdown",
      "metadata": {
        "id": "zFzIiAZELoGi"
      },
      "source": [
        "<p><strong>[출력 결과]</strong></p><pre>[2, 4, 6, 8, 10]\n",
        "</pre>"
      ]
    },
    {
      "cell_type": "code",
      "execution_count": null,
      "metadata": {
        "id": "l7oPhvgWLoGi",
        "outputId": "d3f3b56b-5d0b-4d48-d956-0640c4407dbf"
      },
      "outputs": [
        {
          "name": "stdout",
          "output_type": "stream",
          "text": []
        }
      ],
      "source": [
        "# 코드검증\n",
        "# 검증코드는 수정하지 않고 실행하여 결과를 확인합니다 (Pass/Fail)\n",
        "gd.check_answer(answer, 11)"
      ]
    },
    {
      "cell_type": "markdown",
      "metadata": {
        "id": "cRBmo50YLoGi"
      },
      "source": [
        "### 12"
      ]
    },
    {
      "cell_type": "markdown",
      "metadata": {
        "id": "DNxzaMV3LoGi"
      },
      "source": [
        "> sample = `[1, 2, 3, 4, 5, 6, 7, 8]` 리스트를 슬라이싱을 이용하여 출력과 같이 나올수 있도록 코드를 채워주세요."
      ]
    },
    {
      "cell_type": "code",
      "execution_count": null,
      "metadata": {
        "id": "nAvlUjYXLoGi"
      },
      "outputs": [],
      "source": [
        "sample = [1, 2, 3, 4, 5, 6, 7, 8]"
      ]
    },
    {
      "cell_type": "markdown",
      "metadata": {
        "id": "PUWRbdqZLoGi"
      },
      "source": [
        "> 슬라이싱을 사용해 요소를 **역순으로** 출력해 주세요"
      ]
    },
    {
      "cell_type": "code",
      "execution_count": null,
      "metadata": {
        "id": "3KeWQgt5LoGi",
        "outputId": "9f9ea107-1fcd-4c63-d86e-e19ba44a86a1"
      },
      "outputs": [
        {
          "name": "stdout",
          "output_type": "stream",
          "text": []
        }
      ],
      "source": [
        "# 코드를 입력해 주세요\n"
      ]
    },
    {
      "cell_type": "markdown",
      "metadata": {
        "id": "OgojQL7tLoGi"
      },
      "source": [
        "<p><strong>[출력 결과]</strong></p><pre>[8, 7, 6, 5, 4, 3, 2, 1]\n",
        "</pre>"
      ]
    },
    {
      "cell_type": "code",
      "execution_count": null,
      "metadata": {
        "id": "vu_eOfR8LoGi",
        "outputId": "288d7487-42ea-4ea9-de8a-f1d4c1752a26"
      },
      "outputs": [
        {
          "name": "stdout",
          "output_type": "stream",
          "text": []
        }
      ],
      "source": [
        "# 코드검증\n",
        "# 검증코드는 수정하지 않고 실행하여 결과를 확인합니다 (Pass/Fail)\n",
        "gd.check_answer(answer, 12)"
      ]
    },
    {
      "cell_type": "markdown",
      "metadata": {
        "id": "EF4GWwKFLoGi"
      },
      "source": [
        "### 13"
      ]
    },
    {
      "cell_type": "markdown",
      "metadata": {
        "id": "6um5xGNrLoGj"
      },
      "source": [
        "> 슬라이싱을 사용해 다음 결과가 나올 수 있도록 출력해 주세요"
      ]
    },
    {
      "cell_type": "code",
      "execution_count": null,
      "metadata": {
        "id": "ZxLCd66MLoGj",
        "outputId": "6658dfdd-9839-46e0-b05c-61007738bbdd"
      },
      "outputs": [
        {
          "name": "stdout",
          "output_type": "stream",
          "text": []
        }
      ],
      "source": [
        "# 코드를 입력해 주세요\n"
      ]
    },
    {
      "cell_type": "markdown",
      "metadata": {
        "id": "Ze-nl-72LoGj"
      },
      "source": [
        "<p><strong>[출력 결과]</strong></p><pre>[3, 5, 7]\n",
        "</pre>"
      ]
    },
    {
      "cell_type": "code",
      "execution_count": null,
      "metadata": {
        "id": "Lp4ekOLELoGj",
        "outputId": "23a971cb-7e94-423c-9e12-d5908bd7b5fa"
      },
      "outputs": [
        {
          "name": "stdout",
          "output_type": "stream",
          "text": []
        }
      ],
      "source": [
        "# 코드검증\n",
        "# 검증코드는 수정하지 않고 실행하여 결과를 확인합니다 (Pass/Fail)\n",
        "gd.check_answer(answer, 13)"
      ]
    },
    {
      "cell_type": "markdown",
      "metadata": {
        "id": "kcn4JE_0LoGj"
      },
      "source": [
        "### 14"
      ]
    },
    {
      "cell_type": "markdown",
      "metadata": {
        "id": "zA3Jf9cjLoGj"
      },
      "source": [
        "> 슬라이싱을 사용해 다음과 같이 출력해 주세요"
      ]
    },
    {
      "cell_type": "code",
      "execution_count": null,
      "metadata": {
        "id": "SjwoZPOnLoGj",
        "outputId": "9e3e6839-75c5-4bb0-cdce-0e8823faa028"
      },
      "outputs": [
        {
          "name": "stdout",
          "output_type": "stream",
          "text": []
        }
      ],
      "source": [
        "# 코드를 입력해 주세요\n"
      ]
    },
    {
      "cell_type": "markdown",
      "metadata": {
        "id": "TVDD92OpLoGj"
      },
      "source": [
        "<p><strong>[출력 결과]</strong></p><pre>[2, 5, 8]\n",
        "</pre>"
      ]
    },
    {
      "cell_type": "code",
      "execution_count": null,
      "metadata": {
        "id": "SAxLbQrbLoGj",
        "outputId": "a2ec8d0d-1cd3-4480-bafe-60b4662eb8c0"
      },
      "outputs": [
        {
          "name": "stdout",
          "output_type": "stream",
          "text": []
        }
      ],
      "source": [
        "# 코드검증\n",
        "# 검증코드는 수정하지 않고 실행하여 결과를 확인합니다 (Pass/Fail)\n",
        "gd.check_answer(answer, 14)"
      ]
    },
    {
      "cell_type": "markdown",
      "metadata": {
        "id": "i9dCEETELoGj"
      },
      "source": [
        "## Part3. list 값 수정 - 인덱싱"
      ]
    },
    {
      "cell_type": "markdown",
      "metadata": {
        "id": "E2oaRFcuLoGj"
      },
      "source": [
        "### 15"
      ]
    },
    {
      "cell_type": "markdown",
      "metadata": {
        "id": "0_mJjKgJ3PXj"
      },
      "source": [
        "> - 아래의 값을 저장하고 있는 `myList` 변수를 생성하세요.\n",
        "> - `[[1,2,3],[4,5,6],[7,8]]`"
      ]
    },
    {
      "cell_type": "code",
      "execution_count": null,
      "metadata": {
        "id": "cYw8v3Wc3PXj"
      },
      "outputs": [],
      "source": [
        "myList = [[1,2,3],[4,5,6],[7,8]]\n",
        "print(myList)"
      ]
    },
    {
      "cell_type": "code",
      "execution_count": null,
      "metadata": {
        "id": "ZVtzPmUXLoGj",
        "outputId": "45c4086d-cbe5-40ad-a503-56122d306562"
      },
      "outputs": [
        {
          "name": "stdout",
          "output_type": "stream",
          "text": []
        }
      ],
      "source": [
        "# 코드검증\n",
        "# 검증코드는 수정하지 않고 실행하여 결과를 확인합니다 (Pass/Fail)\n",
        "gd.check_answer(myList, 15)"
      ]
    },
    {
      "cell_type": "markdown",
      "metadata": {
        "id": "WGGYONQHLoGj"
      },
      "source": [
        "### 16"
      ]
    },
    {
      "cell_type": "markdown",
      "metadata": {
        "id": "huln3pHGqluk"
      },
      "source": [
        "> - **9**를 `myList`에 아래 결과와 같이 출력될 수 있도록 **추가**하세요.\n",
        "> - (결과) `[[1,2,3],[4,5,6],[7,8,9]]`"
      ]
    },
    {
      "cell_type": "code",
      "execution_count": null,
      "metadata": {
        "colab": {
          "base_uri": "https://localhost:8080/",
          "height": 35
        },
        "id": "fQwG-KLiq_Aq",
        "outputId": "19c8d8c9-fef1-4f50-886c-c5b408cefc0c"
      },
      "outputs": [
        {
          "name": "stdout",
          "output_type": "stream",
          "text": []
        }
      ],
      "source": [
        "# 코드를 입력해 주세요\n"
      ]
    },
    {
      "cell_type": "markdown",
      "metadata": {
        "id": "09zHL6CPLoGk"
      },
      "source": [
        "<p><strong>[출력 결과]</strong></p><pre>[[1, 2, 3], [4, 5, 6], [7, 8, 9]]\n",
        "</pre>"
      ]
    },
    {
      "cell_type": "code",
      "execution_count": null,
      "metadata": {
        "id": "oY-5ObrALoGk",
        "outputId": "c4577931-a4b3-4258-fa98-295612522cda"
      },
      "outputs": [
        {
          "name": "stdout",
          "output_type": "stream",
          "text": []
        }
      ],
      "source": [
        "# 코드검증\n",
        "# 검증코드는 수정하지 않고 실행하여 결과를 확인합니다 (Pass/Fail)\n",
        "gd.check_answer(myList, 16)"
      ]
    }
  ],
  "metadata": {
    "colab": {
      "name": "02-[연습문제]-파이썬-리스트-(실습)",
      "provenance": []
    },
    "kernelspec": {
      "display_name": "Python 3 (ipykernel)",
      "language": "python",
      "name": "python3"
    },
    "language_info": {
      "codemirror_mode": {
        "name": "ipython",
        "version": 3
      },
      "file_extension": ".py",
      "mimetype": "text/x-python",
      "name": "python",
      "nbconvert_exporter": "python",
      "pygments_lexer": "ipython3",
      "version": "3.8.13"
    }
  },
  "nbformat": 4,
  "nbformat_minor": 0
}